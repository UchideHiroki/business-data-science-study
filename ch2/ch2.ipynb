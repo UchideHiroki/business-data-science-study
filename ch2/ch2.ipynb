{
 "metadata": {
  "language_info": {
   "codemirror_mode": {
    "name": "ipython",
    "version": 3
   },
   "file_extension": ".py",
   "mimetype": "text/x-python",
   "name": "python",
   "nbconvert_exporter": "python",
   "pygments_lexer": "ipython3",
   "version": "3.7.7-final"
  },
  "orig_nbformat": 2,
  "kernelspec": {
   "name": "Python 3.7.7 64-bit",
   "display_name": "Python 3.7.7 64-bit",
   "metadata": {
    "interpreter": {
     "hash": "df955ce39d0f31d56d4bb2fe0a613e5326ba60723fd33d8303a3aede8f65715c"
    }
   }
  }
 },
 "nbformat": 4,
 "nbformat_minor": 2,
 "cells": [
  {
   "cell_type": "code",
   "execution_count": null,
   "metadata": {},
   "outputs": [],
   "source": [
    "import pandas as pd\n",
    "import numpy as np\n",
    "import plotly.express as px\n",
    "import plotly.graph_objects as go"
   ]
  },
  {
   "source": [
    "# 回帰"
   ],
   "cell_type": "markdown",
   "metadata": {}
  },
  {
   "source": [
    "オレンジジュースのデータを用いて、線形モデルの取り扱いについて学ぶ。"
   ],
   "cell_type": "markdown",
   "metadata": {}
  },
  {
   "cell_type": "code",
   "execution_count": null,
   "metadata": {},
   "outputs": [],
   "source": [
    "oj = pd.read_csv(\"https://raw.githubusercontent.com/TaddyLab/BDS/cea195208c1a3d06405b6b404277e1b63eb38e6c/examples/oj.csv\")"
   ]
  },
  {
   "cell_type": "code",
   "execution_count": null,
   "metadata": {},
   "outputs": [],
   "source": [
    "# oj.to_csv(\"oj.csv\", index=False)\n",
    "# oj = pd.read_csv(\"oj.csv\")"
   ]
  },
  {
   "source": [
    "データの可視化"
   ],
   "cell_type": "markdown",
   "metadata": {}
  },
  {
   "cell_type": "code",
   "execution_count": null,
   "metadata": {},
   "outputs": [],
   "source": [
    "oj[\"log_price\"] = np.log(oj.price)"
   ]
  },
  {
   "cell_type": "code",
   "execution_count": null,
   "metadata": {},
   "outputs": [],
   "source": [
    "# 描画の都合上、データ数を1000にサンプリングしている\n",
    "px.strip(oj.sample(n=1000), x=\"brand\", y=\"log_price\", color=\"brand\", height=400, width=500)"
   ]
  },
  {
   "cell_type": "code",
   "execution_count": null,
   "metadata": {},
   "outputs": [],
   "source": [
    "px.violin(oj, x=\"brand\", y=\"log_price\", color=\"brand\", height=400, width=500)"
   ]
  },
  {
   "cell_type": "code",
   "execution_count": null,
   "metadata": {},
   "outputs": [],
   "source": [
    "px.box(oj, x=\"brand\", y=\"log_price\", color=\"brand\", height=400, width=500)"
   ]
  },
  {
   "source": [
    "分布の形状を掴むのにはviolin plotが一番見やすいかな。  \n",
    "ホバーすればちゃんとmedianを教えてくれる。"
   ],
   "cell_type": "markdown",
   "metadata": {}
  },
  {
   "cell_type": "code",
   "execution_count": null,
   "metadata": {},
   "outputs": [],
   "source": [
    "oj[\"log_move\"] = np.log(oj.sales)"
   ]
  },
  {
   "cell_type": "code",
   "execution_count": null,
   "metadata": {},
   "outputs": [],
   "source": [
    "# # 参考、plotlyでサクッと回帰する場合\n",
    "# px.scatter(\n",
    "#     oj, x=\"log_price\", y=\"log_move\", color=\"brand\",\n",
    "#     symbol_sequence=[\"circle-open\"], opacity=0.1, range_x=[-0.5, 1.5],\n",
    "#     trendline=\"ols\", render_mode=\"webgl\", # データ数が1000を超えるときはwebglの方がいいらしい。\n",
    "#     height=400, width=500)"
   ]
  },
  {
   "source": [
    "対数売上数と対数価格は大まかな線形関係にある。  "
   ],
   "cell_type": "markdown",
   "metadata": {}
  },
  {
   "source": [
    "\b目的変数に対数を取って整理すると以下のようになる。\n",
    "\n",
    "$$\n",
    "log(y) = \\alpha + \\beta x \\\\\n",
    "y = \\exp^{\\alpha} \\exp^{\\beta x} \\\\\n",
    "$$\n",
    "\n",
    "$x^{*} = x + 1$とすると、上記式は以下のようになる\n",
    "\n",
    "$$\n",
    "y^{*} = \\exp^{\\alpha} \\exp^{\\beta x^{*}} \\\\\n",
    "y^{*} = \\exp^{\\alpha} \\exp^{\\beta x + \\beta} \\\\\n",
    "y^{*} = \\exp^{\\beta}\\exp^{\\alpha} \\exp^{\\beta x} \\\\\n",
    "y^{*} = \\exp^{\\beta}y \\\\\n",
    "$$\n",
    "\n",
    "従って、$x$が1単位増えると$y$は$\\exp^{\\beta}$倍される。"
   ],
   "cell_type": "markdown",
   "metadata": {}
  },
  {
   "source": [
    "目的変数、説明変数両方に対数を取ると、$\\beta$は弾力性となる。  \n",
    "$x$が$n$%増えると$y$は$\\beta n$%変化する。"
   ],
   "cell_type": "markdown",
   "metadata": {}
  },
  {
   "cell_type": "code",
   "execution_count": null,
   "metadata": {},
   "outputs": [],
   "source": [
    "# statsmodelsを用いた回帰\n",
    "from statsmodels.formula.api import ols"
   ]
  },
  {
   "cell_type": "code",
   "execution_count": null,
   "metadata": {
    "tags": []
   },
   "outputs": [],
   "source": [
    "formula = \"np.log(sales) ~ np.log(price) + brand\"\n",
    "reg = ols(formula=formula, data=oj).fit()\n",
    "print(reg.summary())"
   ]
  },
  {
   "cell_type": "code",
   "execution_count": null,
   "metadata": {},
   "outputs": [],
   "source": []
  },
  {
   "source": [
    "上の推定結果では、消費者の価格感度が等しいと仮定している。  \n",
    "ブランドによって消費者の価格感度が異なるとしたければ、交互作用項をいれる。"
   ],
   "cell_type": "markdown",
   "metadata": {}
  },
  {
   "cell_type": "code",
   "execution_count": null,
   "metadata": {
    "tags": []
   },
   "outputs": [],
   "source": [
    "formula = \"np.log(sales) ~ np.log(price)*brand\"\n",
    "reg = ols(formula=formula, data=oj).fit()\n",
    "print(reg.summary())"
   ]
  },
  {
   "source": [
    "価格弾力性の比較は、  \n",
    "ドミニクス: -3.38  \n",
    "ミニッツメイド: -3.32  \n",
    "トロピカーナ: -2.71  \n",
    "となる。"
   ],
   "cell_type": "markdown",
   "metadata": {}
  },
  {
   "source": [
    "最後に、広告の効果を見る。  \n",
    "ブランド×広告有無で全ての交互作用行を加える。  \n",
    "係数は、2(定数項+係数)×3(ブランド数)×2(広告有無)=12個になる。"
   ],
   "cell_type": "markdown",
   "metadata": {}
  },
  {
   "cell_type": "code",
   "execution_count": null,
   "metadata": {
    "tags": []
   },
   "outputs": [],
   "source": [
    "formula = \"np.log(sales) ~ np.log(price)*brand*feat\"\n",
    "reg = ols(formula=formula, data=oj).fit()\n",
    "print(reg.summary())"
   ]
  },
  {
   "source": [
    "広告を打つと、価格感度がより敏感になる。  \n",
    "元々価格感度が鈍かったトロピカーナやミニッツメイドの方が、広告を打った際の価格感度が高まっている。  \n",
    "広告を打つことで、元々のブランド支持層以外が購買するため、価格感度が高まった。  \n",
    "マーケティング概論の授業では、広告は値引とセットで行うべきというのはこれが理由。  \n",
    "\n",
    "また、宣伝される品物は値引きを伴うため、需要曲線が線形でない(低価格だと価格感度が高い)という事もありうる。  \n",
    "\n",
    "ミニッツメイドは広告を考慮しない場合価格感度がドミニクスに近かったが、広告を考慮するとトロピカーナに近い。  \n",
    "ミニッツメイドは頻繁に広告されるため、広告を考慮しないと価格感度が不自然に高く見えてしまっていた(交絡)。  \n",
    "\n",
    "変数の影響は正しく統制しなければならない。"
   ],
   "cell_type": "markdown",
   "metadata": {}
  },
  {
   "cell_type": "code",
   "execution_count": null,
   "metadata": {},
   "outputs": [],
   "source": [
    "from statsmodels.graphics.mosaicplot import mosaic"
   ]
  },
  {
   "cell_type": "code",
   "execution_count": null,
   "metadata": {},
   "outputs": [],
   "source": [
    "mosaic(oj, [\"feat\", \"brand\"]);"
   ]
  },
  {
   "source": [
    "トロピカーナと比べ、ミニッツメイドは広告をたくさん打っていることがわかる。"
   ],
   "cell_type": "markdown",
   "metadata": {}
  },
  {
   "source": [
    "# ロジスティック回帰"
   ],
   "cell_type": "markdown",
   "metadata": {}
  },
  {
   "source": [
    "対数オッズの線形モデル"
   ],
   "cell_type": "markdown",
   "metadata": {}
  },
  {
   "cell_type": "code",
   "execution_count": null,
   "metadata": {},
   "outputs": [],
   "source": [
    "from statsmodels.formula.api import logit"
   ]
  },
  {
   "cell_type": "code",
   "execution_count": null,
   "metadata": {},
   "outputs": [],
   "source": [
    "email = pd.read_csv(\"https://raw.githubusercontent.com/TaddyLab/BDS/cea195208c1a3d06405b6b404277e1b63eb38e6c/examples/spam.csv\")"
   ]
  },
  {
   "cell_type": "code",
   "execution_count": null,
   "metadata": {},
   "outputs": [],
   "source": [
    "# email.to_csv(\"spam.csv\", index=False)\n",
    "# email = pd.read_csv(\"spam.csv\")"
   ]
  },
  {
   "cell_type": "code",
   "execution_count": null,
   "metadata": {},
   "outputs": [],
   "source": [
    "email.head()"
   ]
  },
  {
   "cell_type": "code",
   "execution_count": null,
   "metadata": {},
   "outputs": [],
   "source": [
    "import statsmodels.formula.api as smf\n",
    "import statsmodels.api as sm"
   ]
  },
  {
   "cell_type": "code",
   "execution_count": null,
   "metadata": {},
   "outputs": [],
   "source": [
    "family = sm.families.Binomial()"
   ]
  },
  {
   "cell_type": "code",
   "execution_count": null,
   "metadata": {
    "tags": []
   },
   "outputs": [],
   "source": [
    "formula = \"spam ~ \" + \"+\".join([col for col in email.columns if col != \"spam\"])\n",
    "res = smf.glm(formula=formula, data=email, family=family).fit()\n",
    "print(res.summary())"
   ]
  },
  {
   "cell_type": "code",
   "execution_count": null,
   "metadata": {},
   "outputs": [],
   "source": [
    "res.params.word_free, np.exp(res.params.word_free)"
   ]
  },
  {
   "source": [
    "word_freeになるとスパムになるオッズが4.68倍になる。  \n",
    "例えば、元々確率が10%だったのであればオッズは1/9なので、それが4.68/9=50%まで上昇する。"
   ],
   "cell_type": "markdown",
   "metadata": {}
  },
  {
   "cell_type": "code",
   "execution_count": null,
   "metadata": {},
   "outputs": [],
   "source": [
    "res.params.word_george, np.exp(res.params.word_george)"
   ]
  },
  {
   "source": [
    "word_georgeが含まれていると、オッズは300分の1未満になる。"
   ],
   "cell_type": "markdown",
   "metadata": {}
  },
  {
   "cell_type": "code",
   "execution_count": null,
   "metadata": {},
   "outputs": [],
   "source": [
    "email.loc[[0,3999]]"
   ]
  },
  {
   "cell_type": "code",
   "execution_count": null,
   "metadata": {},
   "outputs": [],
   "source": [
    "# 予測\n",
    "res.predict(email.drop([\"spam\"], axis=1).loc[[0,3999]])"
   ]
  },
  {
   "cell_type": "code",
   "execution_count": null,
   "metadata": {
    "tags": []
   },
   "outputs": [],
   "source": [
    "formula = \"spam ~ \" + \"+\".join([col for col in email.columns if col != \"spam\"])\n",
    "res = smf.logit(formula=formula, data=email).fit()"
   ]
  },
  {
   "cell_type": "code",
   "execution_count": null,
   "metadata": {
    "tags": []
   },
   "outputs": [],
   "source": [
    "print(res.pred_table(threshold=0.5))"
   ]
  },
  {
   "source": [
    "行がTrue/False、列がPositive/Negative"
   ],
   "cell_type": "markdown",
   "metadata": {}
  },
  {
   "cell_type": "code",
   "execution_count": null,
   "metadata": {},
   "outputs": [],
   "source": [
    "pred_prob = res.predict(email.drop([\"spam\"], axis=1))"
   ]
  },
  {
   "cell_type": "code",
   "execution_count": null,
   "metadata": {},
   "outputs": [],
   "source": [
    "px.violin(pd.DataFrame({\"type\":email.spam, \"pred_prob\":pred_prob}), x=\"type\", y=\"pred_prob\", height=400, width=500)"
   ]
  },
  {
   "cell_type": "code",
   "execution_count": null,
   "metadata": {
    "tags": []
   },
   "outputs": [],
   "source": [
    "print(res.summary())"
   ]
  },
  {
   "cell_type": "code",
   "execution_count": null,
   "metadata": {},
   "outputs": [],
   "source": [
    "res.aic, res.bic"
   ]
  },
  {
   "cell_type": "code",
   "execution_count": null,
   "metadata": {},
   "outputs": [],
   "source": []
  },
  {
   "source": [
    "回帰における不確実性  "
   ],
   "cell_type": "markdown",
   "metadata": {}
  },
  {
   "source": [
    "係数の不確実性を捉える上で、分散不均一性がある場合、通常の標準誤差は誤った値となる。  \n",
    "その場合は、ブートストラップ標本を用いて推定した係数の分布を実際に標本分散の推定値として使用できる。  \n",
    "OLS回帰の特別な場合、頑健な標準誤差を取得するために、サンドウィッチ分散推定量を使える。"
   ],
   "cell_type": "markdown",
   "metadata": {}
  },
  {
   "cell_type": "code",
   "execution_count": null,
   "metadata": {},
   "outputs": [],
   "source": [
    "import pyper"
   ]
  },
  {
   "cell_type": "code",
   "execution_count": null,
   "metadata": {},
   "outputs": [],
   "source": [
    "r = pyper.R(use_pandas=True, use_numpy=True)"
   ]
  },
  {
   "cell_type": "code",
   "execution_count": null,
   "metadata": {
    "tags": []
   },
   "outputs": [],
   "source": [
    "print(r(\"data(airquality)\"))"
   ]
  },
  {
   "cell_type": "code",
   "execution_count": null,
   "metadata": {},
   "outputs": [],
   "source": [
    "r(\"fit <- glm(Ozone ~ ., data=airquality)\")"
   ]
  },
  {
   "cell_type": "code",
   "execution_count": null,
   "metadata": {
    "tags": []
   },
   "outputs": [],
   "source": [
    "print(r('summary(fit)$coef[\"Wind\", ]'))"
   ]
  },
  {
   "source": [
    "Windの標準誤差は0.64"
   ],
   "cell_type": "markdown",
   "metadata": {}
  },
  {
   "cell_type": "code",
   "execution_count": null,
   "metadata": {},
   "outputs": [],
   "source": [
    "r('library(AER)');"
   ]
  },
  {
   "cell_type": "code",
   "execution_count": null,
   "metadata": {},
   "outputs": [],
   "source": [
    "r(\"bvar <- vcovHC(fit)\");"
   ]
  },
  {
   "cell_type": "code",
   "execution_count": null,
   "metadata": {
    "tags": []
   },
   "outputs": [],
   "source": [
    "print(r(\"round(bvar, 1)\"))"
   ]
  },
  {
   "cell_type": "code",
   "execution_count": null,
   "metadata": {
    "tags": []
   },
   "outputs": [],
   "source": [
    "print(r('sqrt(bvar[\"Wind\", \"Wind\"])'))"
   ]
  },
  {
   "source": [
    "WindのHC標準誤差は0.91, 大幅に大きくなった。"
   ],
   "cell_type": "markdown",
   "metadata": {}
  },
  {
   "source": [
    "ブートストラップを用いて標準誤差を求める"
   ],
   "cell_type": "markdown",
   "metadata": {}
  },
  {
   "cell_type": "code",
   "execution_count": 275,
   "metadata": {},
   "outputs": [],
   "source": [
    "# NAがあるとdata.frameをうまく引っ張ってこれない\n",
    "# 先に置換して後から戻す\n",
    "r(\"airquality[is.na(airquality)] <- -100\")\n",
    "airquality = pd.DataFrame(r.get('airquality'))"
   ]
  },
  {
   "cell_type": "code",
   "execution_count": 276,
   "metadata": {},
   "outputs": [],
   "source": [
    "airquality.columns = [col.strip(\" \").replace(\".\", \"_\") for col in airquality.columns]\n",
    "# floatがfloat128になってしまっているので、適切な型に直す\n",
    "# 直さないとpx.scatterで描画が出来ない\n",
    "airquality = airquality.astype(np.float64).replace(-100, np.nan)\n",
    "airquality[\"Temp\"] = airquality[\"Temp\"].astype(np.int64)\n",
    "airquality[\"Month\"] = airquality[\"Month\"].astype(np.int64)\n",
    "airquality[\"Day\"] = airquality[\"Day\"].astype(np.int64)"
   ]
  },
  {
   "cell_type": "code",
   "execution_count": 281,
   "metadata": {},
   "outputs": [],
   "source": [
    "# airquality.to_csv(\"airquality.csv\", index=False)"
   ]
  },
  {
   "cell_type": "code",
   "execution_count": 282,
   "metadata": {
    "tags": []
   },
   "outputs": [
    {
     "output_type": "stream",
     "name": "stdout",
     "text": "<class 'pandas.core.frame.DataFrame'>\nRangeIndex: 153 entries, 0 to 152\nData columns (total 6 columns):\n #   Column   Non-Null Count  Dtype  \n---  ------   --------------  -----  \n 0   Ozone    116 non-null    float64\n 1   Solar_R  146 non-null    float64\n 2   Wind     153 non-null    float64\n 3   Temp     153 non-null    int64  \n 4   Month    153 non-null    int64  \n 5   Day      153 non-null    int64  \ndtypes: float64(3), int64(3)\nmemory usage: 7.3 KB\n"
    }
   ],
   "source": [
    "airquality.info()"
   ]
  },
  {
   "cell_type": "code",
   "execution_count": 270,
   "metadata": {},
   "outputs": [
    {
     "output_type": "execute_result",
     "data": {
      "text/plain": "   Ozone  Solar_R  Wind  Temp  Month  Day\n0   41.0    190.0   7.4    67      5    1\n1   36.0    118.0   8.0    72      5    2\n2   12.0    149.0  12.6    74      5    3\n3   18.0    313.0  11.5    62      5    4\n4 -100.0   -100.0  14.3    56      5    5",
      "text/html": "<div>\n<style scoped>\n    .dataframe tbody tr th:only-of-type {\n        vertical-align: middle;\n    }\n\n    .dataframe tbody tr th {\n        vertical-align: top;\n    }\n\n    .dataframe thead th {\n        text-align: right;\n    }\n</style>\n<table border=\"1\" class=\"dataframe\">\n  <thead>\n    <tr style=\"text-align: right;\">\n      <th></th>\n      <th>Ozone</th>\n      <th>Solar_R</th>\n      <th>Wind</th>\n      <th>Temp</th>\n      <th>Month</th>\n      <th>Day</th>\n    </tr>\n  </thead>\n  <tbody>\n    <tr>\n      <th>0</th>\n      <td>41.0</td>\n      <td>190.0</td>\n      <td>7.4</td>\n      <td>67</td>\n      <td>5</td>\n      <td>1</td>\n    </tr>\n    <tr>\n      <th>1</th>\n      <td>36.0</td>\n      <td>118.0</td>\n      <td>8.0</td>\n      <td>72</td>\n      <td>5</td>\n      <td>2</td>\n    </tr>\n    <tr>\n      <th>2</th>\n      <td>12.0</td>\n      <td>149.0</td>\n      <td>12.6</td>\n      <td>74</td>\n      <td>5</td>\n      <td>3</td>\n    </tr>\n    <tr>\n      <th>3</th>\n      <td>18.0</td>\n      <td>313.0</td>\n      <td>11.5</td>\n      <td>62</td>\n      <td>5</td>\n      <td>4</td>\n    </tr>\n    <tr>\n      <th>4</th>\n      <td>-100.0</td>\n      <td>-100.0</td>\n      <td>14.3</td>\n      <td>56</td>\n      <td>5</td>\n      <td>5</td>\n    </tr>\n  </tbody>\n</table>\n</div>"
     },
     "metadata": {},
     "execution_count": 270
    }
   ],
   "source": [
    "airquality.head()"
   ]
  },
  {
   "cell_type": "code",
   "execution_count": 285,
   "metadata": {},
   "outputs": [],
   "source": [
    "B = 1000\n",
    "betas = []\n",
    "for b in range(B):\n",
    "    samp_b = airquality.sample(frac=1, replace=True)\n",
    "    res = ols(formula=\"Ozone ~ Solar_R + Wind + Temp + Month + Day\", data=samp_b).fit()\n",
    "    betas.append(res.params.Wind)"
   ]
  },
  {
   "cell_type": "code",
   "execution_count": 286,
   "metadata": {},
   "outputs": [
    {
     "output_type": "execute_result",
     "data": {
      "text/plain": "(-3.3579753773972354, 0.884377533188488)"
     },
     "metadata": {},
     "execution_count": 286
    }
   ],
   "source": [
    "np.mean(betas), np.std(betas)"
   ]
  },
  {
   "source": [
    "不均一分散を考慮したHC標準誤差に近い結果を得た。"
   ],
   "cell_type": "markdown",
   "metadata": {}
  },
  {
   "source": [
    "実際に散布図を確認してみると、風速と残差のばらつきが不均一になっていることがわかる。"
   ],
   "cell_type": "markdown",
   "metadata": {}
  },
  {
   "cell_type": "code",
   "execution_count": 287,
   "metadata": {},
   "outputs": [],
   "source": [
    "res = ols(formula=\"Ozone ~ Solar_R + Wind + Temp + Month + Day\", data=airquality).fit()\n",
    "\n",
    "wind_res = pd.DataFrame({\n",
    "    \"wind\": airquality.Wind,\n",
    "    \"OLS_res\": res.resid\n",
    "})"
   ]
  },
  {
   "cell_type": "code",
   "execution_count": 288,
   "metadata": {},
   "outputs": [
    {
     "output_type": "display_data",
     "data": {
      "application/vnd.plotly.v1+json": {
       "config": {
        "plotlyServerURL": "https://plot.ly"
       },
       "data": [
        {
         "hovertemplate": "wind=%{x}<br>OLS_res=%{y}<extra></extra>",
         "legendgroup": "",
         "marker": {
          "color": "#636efa",
          "symbol": "circle"
         },
         "mode": "markers",
         "name": "",
         "orientation": "v",
         "showlegend": false,
         "type": "scatter",
         "x": [
          7.4,
          8,
          12.6,
          11.5,
          14.3,
          14.9,
          8.6,
          13.8,
          20.1,
          8.6,
          6.9,
          9.7,
          9.2,
          10.9,
          13.2,
          11.5,
          12,
          18.4,
          11.5,
          9.7,
          9.7,
          16.6,
          9.7,
          12,
          16.6,
          14.9,
          8,
          12,
          14.9,
          5.7,
          7.4,
          8.6,
          9.7,
          16.1,
          9.2,
          8.6,
          14.3,
          9.7,
          6.9,
          13.8,
          11.5,
          10.9,
          9.2,
          8,
          13.8,
          11.5,
          14.9,
          20.7,
          9.2,
          11.5,
          10.3,
          6.3,
          1.7,
          4.6,
          6.3,
          8,
          8,
          10.3,
          11.5,
          14.9,
          8,
          4.1,
          9.2,
          9.2,
          10.9,
          4.6,
          10.9,
          5.1,
          6.3,
          5.7,
          7.4,
          8.6,
          14.3,
          14.9,
          14.9,
          14.3,
          6.9,
          10.3,
          6.3,
          5.1,
          11.5,
          6.9,
          9.7,
          11.5,
          8.6,
          8,
          8.6,
          12,
          7.4,
          7.4,
          7.4,
          9.2,
          6.9,
          13.8,
          7.4,
          6.9,
          7.4,
          4.6,
          4,
          10.3,
          8,
          8.6,
          11.5,
          11.5,
          11.5,
          9.7,
          11.5,
          10.3,
          6.3,
          7.4,
          10.9,
          10.3,
          15.5,
          14.3,
          12.6,
          9.7,
          3.4,
          8,
          5.7,
          9.7,
          2.3,
          6.3,
          6.3,
          6.9,
          5.1,
          2.8,
          4.6,
          7.4,
          15.5,
          10.9,
          10.3,
          10.9,
          9.7,
          14.9,
          15.5,
          6.3,
          10.9,
          11.5,
          6.9,
          13.8,
          10.3,
          10.3,
          8,
          12.6,
          9.2,
          10.3,
          10.3,
          16.6,
          6.9,
          13.2,
          14.3,
          8,
          11.5
         ],
         "xaxis": "x",
         "y": [
          8.028900855546468,
          -1.1130914811452328,
          -15.472203954833432,
          1.108078999573518,
          null,
          null,
          -9.32055955074155,
          25.091053267383842,
          34.95374474347861,
          null,
          null,
          -19.461008868925717,
          -22.416075908582798,
          -17.035782598326165,
          23.787957557931374,
          -11.025784782665305,
          7.925393400193492,
          29.46445334800423,
          -2.8272711886695703,
          -2.7233685371978567,
          -5.500011331194575,
          -15.103223504938462,
          -7.694002626785341,
          24.296161375448524,
          null,
          null,
          null,
          6.797603972791144,
          -0.4093583764904949,
          44.036608653612944,
          -25.72391690358387,
          null,
          null,
          null,
          null,
          null,
          null,
          -20.211500920195462,
          null,
          11.435084254043247,
          -24.392633099066636,
          null,
          null,
          -34.55188130640255,
          null,
          null,
          -7.159114847025727,
          32.61740246765079,
          2.869682195561836,
          -17.11083423863039,
          -26.908867064069227,
          null,
          null,
          null,
          null,
          null,
          null,
          null,
          null,
          null,
          null,
          60.95790912091121,
          -9.231930428226732,
          -18.31937045603255,
          null,
          -2.856806650251599,
          -13.212618153696795,
          -3.3019780437506085,
          13.275600270211385,
          10.759284838137631,
          14.69073005476551,
          null,
          -12.1015940418757,
          -4.0762822102143055,
          null,
          -18.334478667074414,
          -14.718782763656236,
          -19.309578035056376,
          -11.201821343505628,
          1.7816924911198555,
          8.878375998832034,
          -22.098262798363884,
          null,
          null,
          9.54329270842048,
          40.74361192085446,
          -32.712886765120054,
          2.662524856700209,
          6.746296977264436,
          -24.853015474469686,
          -4.333498731430765,
          0.10712121362741556,
          -7.672108880988574,
          -12.082538948360128,
          -31.15478249674093,
          null,
          null,
          null,
          40.24766462663786,
          27.291329305428484,
          41.49106591564896,
          null,
          null,
          -5.378752682240048,
          -18.14170435688051,
          22.23461298377024,
          null,
          -9.311125075213251,
          11.35513549861571,
          -18.798650925852826,
          -9.734934888136493,
          3.714934487996679,
          -3.8761765314848375,
          0.5579184869320564,
          null,
          -1.373463343832455,
          95.34775768411309,
          7.016099173755208,
          null,
          -5.140660065154691,
          16.610302075013166,
          -8.784664658801248,
          -1.803527725603658,
          29.186940812129905,
          1.5358483594773418,
          -12.56239599755446,
          10.835279519614048,
          -8.046450721301824,
          9.397249244442705,
          -18.602215377783438,
          -12.466808180906092,
          -7.565003321922212,
          -6.487395887824501,
          16.484652667863188,
          3.524464216639757,
          -21.119122554482914,
          -2.994735590399536,
          -1.7016868474635274,
          -3.795200899134926,
          12.335400956323952,
          -11.711067033296146,
          3.5734655181992103,
          -37.01369292764971,
          7.241277025701514,
          3.6756328633685094,
          -5.190110427703289,
          -7.189862254526616,
          33.27513029952199,
          -5.15561474829547,
          null,
          -6.525268661555156,
          -22.584669801270223,
          1.2970602012925383
         ],
         "yaxis": "y"
        }
       ],
       "layout": {
        "height": 400,
        "legend": {
         "tracegroupgap": 0
        },
        "margin": {
         "t": 60
        },
        "template": {
         "data": {
          "bar": [
           {
            "error_x": {
             "color": "#2a3f5f"
            },
            "error_y": {
             "color": "#2a3f5f"
            },
            "marker": {
             "line": {
              "color": "#E5ECF6",
              "width": 0.5
             }
            },
            "type": "bar"
           }
          ],
          "barpolar": [
           {
            "marker": {
             "line": {
              "color": "#E5ECF6",
              "width": 0.5
             }
            },
            "type": "barpolar"
           }
          ],
          "carpet": [
           {
            "aaxis": {
             "endlinecolor": "#2a3f5f",
             "gridcolor": "white",
             "linecolor": "white",
             "minorgridcolor": "white",
             "startlinecolor": "#2a3f5f"
            },
            "baxis": {
             "endlinecolor": "#2a3f5f",
             "gridcolor": "white",
             "linecolor": "white",
             "minorgridcolor": "white",
             "startlinecolor": "#2a3f5f"
            },
            "type": "carpet"
           }
          ],
          "choropleth": [
           {
            "colorbar": {
             "outlinewidth": 0,
             "ticks": ""
            },
            "type": "choropleth"
           }
          ],
          "contour": [
           {
            "colorbar": {
             "outlinewidth": 0,
             "ticks": ""
            },
            "colorscale": [
             [
              0,
              "#0d0887"
             ],
             [
              0.1111111111111111,
              "#46039f"
             ],
             [
              0.2222222222222222,
              "#7201a8"
             ],
             [
              0.3333333333333333,
              "#9c179e"
             ],
             [
              0.4444444444444444,
              "#bd3786"
             ],
             [
              0.5555555555555556,
              "#d8576b"
             ],
             [
              0.6666666666666666,
              "#ed7953"
             ],
             [
              0.7777777777777778,
              "#fb9f3a"
             ],
             [
              0.8888888888888888,
              "#fdca26"
             ],
             [
              1,
              "#f0f921"
             ]
            ],
            "type": "contour"
           }
          ],
          "contourcarpet": [
           {
            "colorbar": {
             "outlinewidth": 0,
             "ticks": ""
            },
            "type": "contourcarpet"
           }
          ],
          "heatmap": [
           {
            "colorbar": {
             "outlinewidth": 0,
             "ticks": ""
            },
            "colorscale": [
             [
              0,
              "#0d0887"
             ],
             [
              0.1111111111111111,
              "#46039f"
             ],
             [
              0.2222222222222222,
              "#7201a8"
             ],
             [
              0.3333333333333333,
              "#9c179e"
             ],
             [
              0.4444444444444444,
              "#bd3786"
             ],
             [
              0.5555555555555556,
              "#d8576b"
             ],
             [
              0.6666666666666666,
              "#ed7953"
             ],
             [
              0.7777777777777778,
              "#fb9f3a"
             ],
             [
              0.8888888888888888,
              "#fdca26"
             ],
             [
              1,
              "#f0f921"
             ]
            ],
            "type": "heatmap"
           }
          ],
          "heatmapgl": [
           {
            "colorbar": {
             "outlinewidth": 0,
             "ticks": ""
            },
            "colorscale": [
             [
              0,
              "#0d0887"
             ],
             [
              0.1111111111111111,
              "#46039f"
             ],
             [
              0.2222222222222222,
              "#7201a8"
             ],
             [
              0.3333333333333333,
              "#9c179e"
             ],
             [
              0.4444444444444444,
              "#bd3786"
             ],
             [
              0.5555555555555556,
              "#d8576b"
             ],
             [
              0.6666666666666666,
              "#ed7953"
             ],
             [
              0.7777777777777778,
              "#fb9f3a"
             ],
             [
              0.8888888888888888,
              "#fdca26"
             ],
             [
              1,
              "#f0f921"
             ]
            ],
            "type": "heatmapgl"
           }
          ],
          "histogram": [
           {
            "marker": {
             "colorbar": {
              "outlinewidth": 0,
              "ticks": ""
             }
            },
            "type": "histogram"
           }
          ],
          "histogram2d": [
           {
            "colorbar": {
             "outlinewidth": 0,
             "ticks": ""
            },
            "colorscale": [
             [
              0,
              "#0d0887"
             ],
             [
              0.1111111111111111,
              "#46039f"
             ],
             [
              0.2222222222222222,
              "#7201a8"
             ],
             [
              0.3333333333333333,
              "#9c179e"
             ],
             [
              0.4444444444444444,
              "#bd3786"
             ],
             [
              0.5555555555555556,
              "#d8576b"
             ],
             [
              0.6666666666666666,
              "#ed7953"
             ],
             [
              0.7777777777777778,
              "#fb9f3a"
             ],
             [
              0.8888888888888888,
              "#fdca26"
             ],
             [
              1,
              "#f0f921"
             ]
            ],
            "type": "histogram2d"
           }
          ],
          "histogram2dcontour": [
           {
            "colorbar": {
             "outlinewidth": 0,
             "ticks": ""
            },
            "colorscale": [
             [
              0,
              "#0d0887"
             ],
             [
              0.1111111111111111,
              "#46039f"
             ],
             [
              0.2222222222222222,
              "#7201a8"
             ],
             [
              0.3333333333333333,
              "#9c179e"
             ],
             [
              0.4444444444444444,
              "#bd3786"
             ],
             [
              0.5555555555555556,
              "#d8576b"
             ],
             [
              0.6666666666666666,
              "#ed7953"
             ],
             [
              0.7777777777777778,
              "#fb9f3a"
             ],
             [
              0.8888888888888888,
              "#fdca26"
             ],
             [
              1,
              "#f0f921"
             ]
            ],
            "type": "histogram2dcontour"
           }
          ],
          "mesh3d": [
           {
            "colorbar": {
             "outlinewidth": 0,
             "ticks": ""
            },
            "type": "mesh3d"
           }
          ],
          "parcoords": [
           {
            "line": {
             "colorbar": {
              "outlinewidth": 0,
              "ticks": ""
             }
            },
            "type": "parcoords"
           }
          ],
          "pie": [
           {
            "automargin": true,
            "type": "pie"
           }
          ],
          "scatter": [
           {
            "marker": {
             "colorbar": {
              "outlinewidth": 0,
              "ticks": ""
             }
            },
            "type": "scatter"
           }
          ],
          "scatter3d": [
           {
            "line": {
             "colorbar": {
              "outlinewidth": 0,
              "ticks": ""
             }
            },
            "marker": {
             "colorbar": {
              "outlinewidth": 0,
              "ticks": ""
             }
            },
            "type": "scatter3d"
           }
          ],
          "scattercarpet": [
           {
            "marker": {
             "colorbar": {
              "outlinewidth": 0,
              "ticks": ""
             }
            },
            "type": "scattercarpet"
           }
          ],
          "scattergeo": [
           {
            "marker": {
             "colorbar": {
              "outlinewidth": 0,
              "ticks": ""
             }
            },
            "type": "scattergeo"
           }
          ],
          "scattergl": [
           {
            "marker": {
             "colorbar": {
              "outlinewidth": 0,
              "ticks": ""
             }
            },
            "type": "scattergl"
           }
          ],
          "scattermapbox": [
           {
            "marker": {
             "colorbar": {
              "outlinewidth": 0,
              "ticks": ""
             }
            },
            "type": "scattermapbox"
           }
          ],
          "scatterpolar": [
           {
            "marker": {
             "colorbar": {
              "outlinewidth": 0,
              "ticks": ""
             }
            },
            "type": "scatterpolar"
           }
          ],
          "scatterpolargl": [
           {
            "marker": {
             "colorbar": {
              "outlinewidth": 0,
              "ticks": ""
             }
            },
            "type": "scatterpolargl"
           }
          ],
          "scatterternary": [
           {
            "marker": {
             "colorbar": {
              "outlinewidth": 0,
              "ticks": ""
             }
            },
            "type": "scatterternary"
           }
          ],
          "surface": [
           {
            "colorbar": {
             "outlinewidth": 0,
             "ticks": ""
            },
            "colorscale": [
             [
              0,
              "#0d0887"
             ],
             [
              0.1111111111111111,
              "#46039f"
             ],
             [
              0.2222222222222222,
              "#7201a8"
             ],
             [
              0.3333333333333333,
              "#9c179e"
             ],
             [
              0.4444444444444444,
              "#bd3786"
             ],
             [
              0.5555555555555556,
              "#d8576b"
             ],
             [
              0.6666666666666666,
              "#ed7953"
             ],
             [
              0.7777777777777778,
              "#fb9f3a"
             ],
             [
              0.8888888888888888,
              "#fdca26"
             ],
             [
              1,
              "#f0f921"
             ]
            ],
            "type": "surface"
           }
          ],
          "table": [
           {
            "cells": {
             "fill": {
              "color": "#EBF0F8"
             },
             "line": {
              "color": "white"
             }
            },
            "header": {
             "fill": {
              "color": "#C8D4E3"
             },
             "line": {
              "color": "white"
             }
            },
            "type": "table"
           }
          ]
         },
         "layout": {
          "annotationdefaults": {
           "arrowcolor": "#2a3f5f",
           "arrowhead": 0,
           "arrowwidth": 1
          },
          "coloraxis": {
           "colorbar": {
            "outlinewidth": 0,
            "ticks": ""
           }
          },
          "colorscale": {
           "diverging": [
            [
             0,
             "#8e0152"
            ],
            [
             0.1,
             "#c51b7d"
            ],
            [
             0.2,
             "#de77ae"
            ],
            [
             0.3,
             "#f1b6da"
            ],
            [
             0.4,
             "#fde0ef"
            ],
            [
             0.5,
             "#f7f7f7"
            ],
            [
             0.6,
             "#e6f5d0"
            ],
            [
             0.7,
             "#b8e186"
            ],
            [
             0.8,
             "#7fbc41"
            ],
            [
             0.9,
             "#4d9221"
            ],
            [
             1,
             "#276419"
            ]
           ],
           "sequential": [
            [
             0,
             "#0d0887"
            ],
            [
             0.1111111111111111,
             "#46039f"
            ],
            [
             0.2222222222222222,
             "#7201a8"
            ],
            [
             0.3333333333333333,
             "#9c179e"
            ],
            [
             0.4444444444444444,
             "#bd3786"
            ],
            [
             0.5555555555555556,
             "#d8576b"
            ],
            [
             0.6666666666666666,
             "#ed7953"
            ],
            [
             0.7777777777777778,
             "#fb9f3a"
            ],
            [
             0.8888888888888888,
             "#fdca26"
            ],
            [
             1,
             "#f0f921"
            ]
           ],
           "sequentialminus": [
            [
             0,
             "#0d0887"
            ],
            [
             0.1111111111111111,
             "#46039f"
            ],
            [
             0.2222222222222222,
             "#7201a8"
            ],
            [
             0.3333333333333333,
             "#9c179e"
            ],
            [
             0.4444444444444444,
             "#bd3786"
            ],
            [
             0.5555555555555556,
             "#d8576b"
            ],
            [
             0.6666666666666666,
             "#ed7953"
            ],
            [
             0.7777777777777778,
             "#fb9f3a"
            ],
            [
             0.8888888888888888,
             "#fdca26"
            ],
            [
             1,
             "#f0f921"
            ]
           ]
          },
          "colorway": [
           "#636efa",
           "#EF553B",
           "#00cc96",
           "#ab63fa",
           "#FFA15A",
           "#19d3f3",
           "#FF6692",
           "#B6E880",
           "#FF97FF",
           "#FECB52"
          ],
          "font": {
           "color": "#2a3f5f"
          },
          "geo": {
           "bgcolor": "white",
           "lakecolor": "white",
           "landcolor": "#E5ECF6",
           "showlakes": true,
           "showland": true,
           "subunitcolor": "white"
          },
          "hoverlabel": {
           "align": "left"
          },
          "hovermode": "closest",
          "mapbox": {
           "style": "light"
          },
          "paper_bgcolor": "white",
          "plot_bgcolor": "#E5ECF6",
          "polar": {
           "angularaxis": {
            "gridcolor": "white",
            "linecolor": "white",
            "ticks": ""
           },
           "bgcolor": "#E5ECF6",
           "radialaxis": {
            "gridcolor": "white",
            "linecolor": "white",
            "ticks": ""
           }
          },
          "scene": {
           "xaxis": {
            "backgroundcolor": "#E5ECF6",
            "gridcolor": "white",
            "gridwidth": 2,
            "linecolor": "white",
            "showbackground": true,
            "ticks": "",
            "zerolinecolor": "white"
           },
           "yaxis": {
            "backgroundcolor": "#E5ECF6",
            "gridcolor": "white",
            "gridwidth": 2,
            "linecolor": "white",
            "showbackground": true,
            "ticks": "",
            "zerolinecolor": "white"
           },
           "zaxis": {
            "backgroundcolor": "#E5ECF6",
            "gridcolor": "white",
            "gridwidth": 2,
            "linecolor": "white",
            "showbackground": true,
            "ticks": "",
            "zerolinecolor": "white"
           }
          },
          "shapedefaults": {
           "line": {
            "color": "#2a3f5f"
           }
          },
          "ternary": {
           "aaxis": {
            "gridcolor": "white",
            "linecolor": "white",
            "ticks": ""
           },
           "baxis": {
            "gridcolor": "white",
            "linecolor": "white",
            "ticks": ""
           },
           "bgcolor": "#E5ECF6",
           "caxis": {
            "gridcolor": "white",
            "linecolor": "white",
            "ticks": ""
           }
          },
          "title": {
           "x": 0.05
          },
          "xaxis": {
           "automargin": true,
           "gridcolor": "white",
           "linecolor": "white",
           "ticks": "",
           "title": {
            "standoff": 15
           },
           "zerolinecolor": "white",
           "zerolinewidth": 2
          },
          "yaxis": {
           "automargin": true,
           "gridcolor": "white",
           "linecolor": "white",
           "ticks": "",
           "title": {
            "standoff": 15
           },
           "zerolinecolor": "white",
           "zerolinewidth": 2
          }
         }
        },
        "width": 500,
        "xaxis": {
         "anchor": "y",
         "domain": [
          0,
          1
         ],
         "title": {
          "text": "wind"
         }
        },
        "yaxis": {
         "anchor": "x",
         "domain": [
          0,
          1
         ],
         "title": {
          "text": "OLS_res"
         }
        }
       }
      }
     },
     "metadata": {}
    }
   ],
   "source": [
    "px.scatter(wind_res, x=\"wind\", y=\"OLS_res\", height=400, width=500)"
   ]
  },
  {
   "source": [
    "風が弱いと、残差のばらつきが大きくなっていることがわかる。"
   ],
   "cell_type": "markdown",
   "metadata": {}
  },
  {
   "source": [
    "これまでに説明した不確実性推定量は、観測値間の独立性を前提としている。  \n",
    "そのため、HCの手順においても、$\\hat{\\Sigma}$の非対角線上は0になる。  \n",
    "\n",
    "観測値間に従属関係がある場合に使用できるツールが他にある。  \n",
    "\n",
    "従属関係を考慮したサンドウィッチ推定量(クラスタ化標準誤差)については5章で説明する。  \n",
    "このような手段はランダムか比較試験で処置効果を推定するときに一般的に使用される。  \n",
    "\n",
    "また、従属関係は回帰においてモデル化しても扱える。"
   ],
   "cell_type": "markdown",
   "metadata": {}
  },
  {
   "cell_type": "code",
   "execution_count": null,
   "metadata": {},
   "outputs": [],
   "source": []
  },
  {
   "source": [
    "時系列は、、まあ大体わかってるからパス  \n",
    "先に進む"
   ],
   "cell_type": "markdown",
   "metadata": {}
  },
  {
   "cell_type": "code",
   "execution_count": null,
   "metadata": {},
   "outputs": [],
   "source": []
  }
 ]
}